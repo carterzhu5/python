{
 "cells": [
  {
   "cell_type": "code",
   "execution_count": 17,
   "metadata": {},
   "outputs": [],
   "source": [
    "import numpy as np\n",
    "import pandas as pd"
   ]
  },
  {
   "cell_type": "code",
   "execution_count": 5,
   "metadata": {},
   "outputs": [
    {
     "name": "stdout",
     "output_type": "stream",
     "text": [
      "Requirement already satisfied: gspread in c:\\users\\tinghan.zhu\\anaconda3\\lib\\site-packages (5.4.0)\n",
      "Requirement already satisfied: google-auth-oauthlib>=0.4.1 in c:\\users\\tinghan.zhu\\anaconda3\\lib\\site-packages (from gspread) (0.5.2)\n",
      "Requirement already satisfied: google-auth>=1.12.0 in c:\\users\\tinghan.zhu\\anaconda3\\lib\\site-packages (from gspread) (1.33.0)\n",
      "Requirement already satisfied: setuptools>=40.3.0 in c:\\users\\tinghan.zhu\\anaconda3\\lib\\site-packages (from google-auth>=1.12.0->gspread) (61.2.0)\n",
      "Requirement already satisfied: pyasn1-modules>=0.2.1 in c:\\users\\tinghan.zhu\\anaconda3\\lib\\site-packages (from google-auth>=1.12.0->gspread) (0.2.8)\n",
      "Requirement already satisfied: six>=1.9.0 in c:\\users\\tinghan.zhu\\anaconda3\\lib\\site-packages (from google-auth>=1.12.0->gspread) (1.16.0)\n",
      "Requirement already satisfied: rsa<5,>=3.1.4 in c:\\users\\tinghan.zhu\\anaconda3\\lib\\site-packages (from google-auth>=1.12.0->gspread) (4.7.2)\n",
      "Requirement already satisfied: cachetools<5.0,>=2.0.0 in c:\\users\\tinghan.zhu\\anaconda3\\lib\\site-packages (from google-auth>=1.12.0->gspread) (4.2.2)\n",
      "Requirement already satisfied: requests-oauthlib>=0.7.0 in c:\\users\\tinghan.zhu\\anaconda3\\lib\\site-packages (from google-auth-oauthlib>=0.4.1->gspread) (1.3.1)\n",
      "Requirement already satisfied: pyasn1<0.5.0,>=0.4.6 in c:\\users\\tinghan.zhu\\anaconda3\\lib\\site-packages (from pyasn1-modules>=0.2.1->google-auth>=1.12.0->gspread) (0.4.8)\n",
      "Requirement already satisfied: oauthlib>=3.0.0 in c:\\users\\tinghan.zhu\\anaconda3\\lib\\site-packages (from requests-oauthlib>=0.7.0->google-auth-oauthlib>=0.4.1->gspread) (3.2.0)\n",
      "Requirement already satisfied: requests>=2.0.0 in c:\\users\\tinghan.zhu\\anaconda3\\lib\\site-packages (from requests-oauthlib>=0.7.0->google-auth-oauthlib>=0.4.1->gspread) (2.27.1)\n",
      "Requirement already satisfied: certifi>=2017.4.17 in c:\\users\\tinghan.zhu\\anaconda3\\lib\\site-packages (from requests>=2.0.0->requests-oauthlib>=0.7.0->google-auth-oauthlib>=0.4.1->gspread) (2021.10.8)\n",
      "Requirement already satisfied: charset-normalizer~=2.0.0 in c:\\users\\tinghan.zhu\\anaconda3\\lib\\site-packages (from requests>=2.0.0->requests-oauthlib>=0.7.0->google-auth-oauthlib>=0.4.1->gspread) (2.0.4)\n",
      "Requirement already satisfied: urllib3<1.27,>=1.21.1 in c:\\users\\tinghan.zhu\\anaconda3\\lib\\site-packages (from requests>=2.0.0->requests-oauthlib>=0.7.0->google-auth-oauthlib>=0.4.1->gspread) (1.26.9)\n",
      "Requirement already satisfied: idna<4,>=2.5 in c:\\users\\tinghan.zhu\\anaconda3\\lib\\site-packages (from requests>=2.0.0->requests-oauthlib>=0.7.0->google-auth-oauthlib>=0.4.1->gspread) (3.3)\n",
      "Note: you may need to restart the kernel to use updated packages.\n"
     ]
    }
   ],
   "source": [
    "pip install gspread"
   ]
  },
  {
   "cell_type": "code",
   "execution_count": 7,
   "metadata": {},
   "outputs": [],
   "source": [
    "import gspread"
   ]
  },
  {
   "cell_type": "code",
   "execution_count": 8,
   "metadata": {},
   "outputs": [],
   "source": [
    "cred_file = \"main-ember-354108-709fa653b09a.json\"\n",
    "\n",
    "gc = gspread.service_account(cred_file)"
   ]
  },
  {
   "cell_type": "code",
   "execution_count": 9,
   "metadata": {},
   "outputs": [
    {
     "data": {
      "text/plain": [
       "<gspread.client.Client at 0x2b08a32ed90>"
      ]
     },
     "execution_count": 9,
     "metadata": {},
     "output_type": "execute_result"
    }
   ],
   "source": [
    "gc"
   ]
  },
  {
   "cell_type": "code",
   "execution_count": 21,
   "metadata": {},
   "outputs": [],
   "source": [
    "#Establish connection\n",
    "\n",
    "db = gc.open(\"6.13-6.15 BR CFS & MFS Final List\")"
   ]
  },
  {
   "cell_type": "code",
   "execution_count": 22,
   "metadata": {},
   "outputs": [
    {
     "data": {
      "text/plain": [
       "<Spreadsheet '6.13-6.15 BR CFS & MFS Final List' id:1UQs3Vg4i-iI9_F6azHfM6NPVFlntRxaDz-9FufJIKKY>"
      ]
     },
     "execution_count": 22,
     "metadata": {},
     "output_type": "execute_result"
    }
   ],
   "source": [
    "db"
   ]
  },
  {
   "cell_type": "code",
   "execution_count": 24,
   "metadata": {},
   "outputs": [
    {
     "data": {
      "text/plain": [
       "<Worksheet 'Normal CFS Finallist' id:1016565159>"
      ]
     },
     "execution_count": 24,
     "metadata": {},
     "output_type": "execute_result"
    }
   ],
   "source": [
    "wks = db.worksheet(\"Normal CFS Finallist\")\n",
    "wks"
   ]
  },
  {
   "cell_type": "code",
   "execution_count": 25,
   "metadata": {},
   "outputs": [
    {
     "ename": "GSpreadException",
     "evalue": "the given 'expected_headers' are not uniques",
     "output_type": "error",
     "traceback": [
      "\u001b[1;31m---------------------------------------------------------------------------\u001b[0m",
      "\u001b[1;31mGSpreadException\u001b[0m                          Traceback (most recent call last)",
      "Input \u001b[1;32mIn [25]\u001b[0m, in \u001b[0;36m<cell line: 1>\u001b[1;34m()\u001b[0m\n\u001b[1;32m----> 1\u001b[0m data\u001b[38;5;241m=\u001b[39mpd\u001b[38;5;241m.\u001b[39mDataFrame(\u001b[43mwks\u001b[49m\u001b[38;5;241;43m.\u001b[39;49m\u001b[43mget_all_records\u001b[49m\u001b[43m(\u001b[49m\u001b[43m)\u001b[49m)\n\u001b[0;32m      2\u001b[0m data\n",
      "File \u001b[1;32m~\\Anaconda3\\lib\\site-packages\\gspread\\worksheet.py:488\u001b[0m, in \u001b[0;36mWorksheet.get_all_records\u001b[1;34m(self, empty2zero, head, default_blank, allow_underscores_in_numeric_literals, numericise_ignore, value_render_option, expected_headers)\u001b[0m\n\u001b[0;32m    486\u001b[0m \u001b[38;5;66;03m# make sure they are uniques\u001b[39;00m\n\u001b[0;32m    487\u001b[0m \u001b[38;5;28;01mif\u001b[39;00m \u001b[38;5;28mlen\u001b[39m(expected) \u001b[38;5;241m!=\u001b[39m \u001b[38;5;28mlen\u001b[39m(expected_headers):\n\u001b[1;32m--> 488\u001b[0m     \u001b[38;5;28;01mraise\u001b[39;00m GSpreadException(\u001b[38;5;124m\"\u001b[39m\u001b[38;5;124mthe given \u001b[39m\u001b[38;5;124m'\u001b[39m\u001b[38;5;124mexpected_headers\u001b[39m\u001b[38;5;124m'\u001b[39m\u001b[38;5;124m are not uniques\u001b[39m\u001b[38;5;124m\"\u001b[39m)\n\u001b[0;32m    490\u001b[0m \u001b[38;5;28;01mif\u001b[39;00m \u001b[38;5;129;01mnot\u001b[39;00m expected \u001b[38;5;241m&\u001b[39m headers \u001b[38;5;241m==\u001b[39m expected:\n\u001b[0;32m    491\u001b[0m     \u001b[38;5;28;01mraise\u001b[39;00m GSpreadException(\n\u001b[0;32m    492\u001b[0m         \u001b[38;5;124m\"\u001b[39m\u001b[38;5;124mthe given \u001b[39m\u001b[38;5;124m'\u001b[39m\u001b[38;5;124mexpected_headers\u001b[39m\u001b[38;5;124m'\u001b[39m\u001b[38;5;124m contains unknown headers: \u001b[39m\u001b[38;5;132;01m{}\u001b[39;00m\u001b[38;5;124m\"\u001b[39m\u001b[38;5;241m.\u001b[39mformat(\n\u001b[0;32m    493\u001b[0m             expected \u001b[38;5;241m-\u001b[39m headers\n\u001b[0;32m    494\u001b[0m         )\n\u001b[0;32m    495\u001b[0m     )\n",
      "\u001b[1;31mGSpreadException\u001b[0m: the given 'expected_headers' are not uniques"
     ]
    }
   ],
   "source": [
    "data=pd.DataFrame(wks.get_all_records())\n",
    "data"
   ]
  },
  {
   "cell_type": "code",
   "execution_count": null,
   "metadata": {},
   "outputs": [],
   "source": []
  }
 ],
 "metadata": {
  "interpreter": {
   "hash": "7c4cbd60d00753ba89bf99695afa5346613e969d7b2df672f1a7a38d206a7b98"
  },
  "kernelspec": {
   "display_name": "Python 3 (ipykernel)",
   "language": "python",
   "name": "python3"
  },
  "language_info": {
   "codemirror_mode": {
    "name": "ipython",
    "version": 3
   },
   "file_extension": ".py",
   "mimetype": "text/x-python",
   "name": "python",
   "nbconvert_exporter": "python",
   "pygments_lexer": "ipython3",
   "version": "3.9.12"
  }
 },
 "nbformat": 4,
 "nbformat_minor": 2
}
