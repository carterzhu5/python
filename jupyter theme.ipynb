{
 "cells": [
  {
   "cell_type": "code",
   "execution_count": 4,
   "id": "d2c6b0c5",
   "metadata": {},
   "outputs": [
    {
     "name": "stdout",
     "output_type": "stream",
     "text": [
      "Collecting package metadata (current_repodata.json): ...working... done\n",
      "Note: you may need to restart the kernel to use updated packages.\n",
      "Solving environment: ...working... done\n",
      "\n",
      "## Package Plan ##\n",
      "\n",
      "  environment location: C:\\Users\\tinghan.zhu\\Anaconda3\n",
      "\n",
      "  added / updated specs:\n",
      "    - jupyterthemes\n",
      "\n",
      "\n",
      "The following packages will be downloaded:\n",
      "\n",
      "    package                    |            build\n",
      "    ---------------------------|-----------------\n",
      "    _anaconda_depends-2022.05  |           py39_0           7 KB\n",
      "    anaconda-custom            |           py39_1           4 KB\n",
      "    ca-certificates-2022.6.15  |       h5b45459_0         188 KB  conda-forge\n",
      "\n"
     ]
    },
    {
     "name": "stderr",
     "output_type": "stream",
     "text": [
      "\n",
      "The environment is inconsistent, please check the package plan carefully\n",
      "The following packages are causing the inconsistency:\n",
      "\n",
      "  - defaults/win-64::anaconda==2022.05=py39_0\n",
      "  - defaults/win-64::gensim==4.1.2=py39hd77b12b_0\n",
      "  - defaults/noarch::google-cloud-core==1.7.1=pyhd3eb1b0_0\n",
      "  - defaults/noarch::google-cloud-storage==1.31.0=py_0\n",
      "  - defaults/noarch::smart_open==5.1.0=pyhd3eb1b0_0\n",
      "\n",
      "\n",
      "==> WARNING: A newer version of conda exists. <==\n",
      "  current version: 4.12.0\n"
     ]
    },
    {
     "name": "stdout",
     "output_type": "stream",
     "text": [
      "    certifi-2022.6.15          |   py39hcbf5309_0         155 KB  conda-forge\n",
      "    conda-4.13.0               |   py39hcbf5309_1         1.0 MB  conda-forge\n",
      "    googleapis-common-protos-1.56.3|   py39h35db3c3_0         123 KB  conda-forge\n",
      "    jupyterthemes-0.20.0       |             py_1         6.1 MB  conda-forge\n",
      "    lesscpy-0.15.0             |     pyhd8ed1ab_0          38 KB  conda-forge\n",
      "    openssl-1.1.1p             |       h8ffe710_0         5.8 MB  conda-forge\n",
      "    ply-3.11                   |             py_1          44 KB  conda-forge\n",
      "    python_abi-3.9             |           2_cp39           4 KB  conda-forge\n",
      "    ------------------------------------------------------------\n",
      "                                           Total:        13.4 MB\n",
      "\n",
      "The following NEW packages will be INSTALLED:\n",
      "\n",
      "  _anaconda_depends  pkgs/main/win-64::_anaconda_depends-2022.05-py39_0\n",
      "  google-api-core    pkgs/main/noarch::google-api-core-1.25.1-pyhd3eb1b0_0\n",
      "  googleapis-common~ conda-forge/win-64::googleapis-common-protos-1.56.3-py39h35db3c3_0\n",
      "  jupyterthemes      conda-forge/noarch::jupyterthemes-0.20.0-py_1\n",
      "  lesscpy            conda-forge/noarch::lesscpy-0.15.0-pyhd8ed1ab_0\n",
      "  ply                conda-forge/noarch::ply-3.11-py_1\n",
      "  python_abi         conda-forge/win-64::python_abi-3.9-2_cp39\n",
      "\n",
      "The following packages will be UPDATED:\n",
      "\n",
      "  ca-certificates    pkgs/main::ca-certificates-2022.3.29-~ --> conda-forge::ca-certificates-2022.6.15-h5b45459_0\n",
      "  certifi            pkgs/main::certifi-2021.10.8-py39haa9~ --> conda-forge::certifi-2022.6.15-py39hcbf5309_0\n",
      "  conda              pkgs/main::conda-4.12.0-py39haa95532_0 --> conda-forge::conda-4.13.0-py39hcbf5309_1\n",
      "  openssl              pkgs/main::openssl-1.1.1n-h2bbff1b_0 --> conda-forge::openssl-1.1.1p-h8ffe710_0\n",
      "\n",
      "The following packages will be DOWNGRADED:\n",
      "\n",
      "  anaconda                                   2022.05-py39_0 --> custom-py39_1\n",
      "\n",
      "\n",
      "\n",
      "Downloading and Extracting Packages\n",
      "\n",
      "certifi-2022.6.15    | 155 KB    |            |   0% \n",
      "certifi-2022.6.15    | 155 KB    | #          |  10% \n",
      "certifi-2022.6.15    | 155 KB    | ########## | 100% \n",
      "certifi-2022.6.15    | 155 KB    | ########## | 100% \n",
      "\n",
      "jupyterthemes-0.20.0 | 6.1 MB    |            |   0% \n",
      "jupyterthemes-0.20.0 | 6.1 MB    | 3          |   3% \n",
      "jupyterthemes-0.20.0 | 6.1 MB    | 9          |   9% \n",
      "jupyterthemes-0.20.0 | 6.1 MB    | #4         |  15% \n",
      "jupyterthemes-0.20.0 | 6.1 MB    | ##         |  21% \n",
      "jupyterthemes-0.20.0 | 6.1 MB    | ##6        |  26% \n",
      "jupyterthemes-0.20.0 | 6.1 MB    | ###1       |  32% \n",
      "jupyterthemes-0.20.0 | 6.1 MB    | ###7       |  38% \n",
      "jupyterthemes-0.20.0 | 6.1 MB    | ####3      |  43% \n",
      "jupyterthemes-0.20.0 | 6.1 MB    | ####9      |  49% \n",
      "jupyterthemes-0.20.0 | 6.1 MB    | #####4     |  55% \n",
      "jupyterthemes-0.20.0 | 6.1 MB    | ######     |  60% \n",
      "jupyterthemes-0.20.0 | 6.1 MB    | ######6    |  66% \n",
      "jupyterthemes-0.20.0 | 6.1 MB    | #######3   |  73% \n",
      "jupyterthemes-0.20.0 | 6.1 MB    | #######8   |  79% \n",
      "jupyterthemes-0.20.0 | 6.1 MB    | ########4  |  85% \n",
      "jupyterthemes-0.20.0 | 6.1 MB    | #########  |  91% \n",
      "jupyterthemes-0.20.0 | 6.1 MB    | #########6 |  97% \n",
      "jupyterthemes-0.20.0 | 6.1 MB    | ########## | 100% \n",
      "\n",
      "googleapis-common-pr | 123 KB    |            |   0% \n",
      "googleapis-common-pr | 123 KB    | ########## | 100% \n",
      "googleapis-common-pr | 123 KB    | ########## | 100% \n",
      "\n",
      "ply-3.11             | 44 KB     |            |   0% \n",
      "ply-3.11             | 44 KB     | ########## | 100% \n",
      "ply-3.11             | 44 KB     | ########## | 100% \n",
      "\n",
      "_anaconda_depends-20 | 7 KB      |            |   0% \n",
      "_anaconda_depends-20 | 7 KB      | ########## | 100% \n",
      "_anaconda_depends-20 | 7 KB      | ########## | 100% \n",
      "\n",
      "openssl-1.1.1p       | 5.8 MB    |            |   0% \n",
      "openssl-1.1.1p       | 5.8 MB    | 2          |   2% \n",
      "openssl-1.1.1p       | 5.8 MB    | 8          |   9% \n",
      "openssl-1.1.1p       | 5.8 MB    | #4         |  15% \n",
      "openssl-1.1.1p       | 5.8 MB    | ##         |  21% \n",
      "openssl-1.1.1p       | 5.8 MB    | ##6        |  26% \n",
      "openssl-1.1.1p       | 5.8 MB    | ###2       |  33% \n",
      "openssl-1.1.1p       | 5.8 MB    | ###8       |  39% \n",
      "openssl-1.1.1p       | 5.8 MB    | ####4      |  45% \n",
      "openssl-1.1.1p       | 5.8 MB    | #####1     |  51% \n",
      "openssl-1.1.1p       | 5.8 MB    | #####7     |  57% \n",
      "openssl-1.1.1p       | 5.8 MB    | ######3    |  63% \n",
      "openssl-1.1.1p       | 5.8 MB    | ######9    |  69% \n",
      "openssl-1.1.1p       | 5.8 MB    | #######5   |  75% \n",
      "openssl-1.1.1p       | 5.8 MB    | ########1  |  81% \n",
      "openssl-1.1.1p       | 5.8 MB    | ########7  |  87% \n",
      "openssl-1.1.1p       | 5.8 MB    | #########3 |  94% \n",
      "openssl-1.1.1p       | 5.8 MB    | #########9 | 100% \n",
      "openssl-1.1.1p       | 5.8 MB    | ########## | 100% \n",
      "\n",
      "conda-4.13.0         | 1.0 MB    |            |   0% \n",
      "conda-4.13.0         | 1.0 MB    | #7         |  17% \n",
      "conda-4.13.0         | 1.0 MB    | #####2     |  53% \n",
      "conda-4.13.0         | 1.0 MB    | ########8  |  89% \n",
      "conda-4.13.0         | 1.0 MB    | ########## | 100% \n",
      "\n",
      "lesscpy-0.15.0       | 38 KB     |            |   0% \n",
      "lesscpy-0.15.0       | 38 KB     | ########## | 100% \n",
      "lesscpy-0.15.0       | 38 KB     | ########## | 100% \n",
      "\n",
      "anaconda-custom      | 4 KB      |            |   0% \n",
      "anaconda-custom      | 4 KB      | ########## | 100% \n",
      "anaconda-custom      | 4 KB      | ########## | 100% \n",
      "\n",
      "ca-certificates-2022 | 188 KB    |            |   0% \n",
      "ca-certificates-2022 | 188 KB    | ########## | 100% \n",
      "ca-certificates-2022 | 188 KB    | ########## | 100% \n",
      "\n",
      "python_abi-3.9       | 4 KB      |            |   0% \n",
      "python_abi-3.9       | 4 KB      | ########## | 100% \n",
      "Preparing transaction: ...working... done\n",
      "Verifying transaction: ...working... done\n",
      "Executing transaction: ...working... done\n"
     ]
    },
    {
     "name": "stderr",
     "output_type": "stream",
     "text": [
      "  latest version: 4.13.0\n",
      "\n",
      "Please update conda by running\n",
      "\n",
      "    $ conda update -n base -c defaults conda\n",
      "\n",
      "\n"
     ]
    }
   ],
   "source": [
    "conda install -c conda-forge jupyterthemes"
   ]
  },
  {
   "cell_type": "code",
   "execution_count": 1,
   "id": "32e7e2a0",
   "metadata": {},
   "outputs": [
    {
     "name": "stdout",
     "output_type": "stream",
     "text": [
      "Available Themes: \n",
      "   chesterish\n",
      "   grade3\n",
      "   gruvboxd\n",
      "   gruvboxl\n",
      "   monokai\n",
      "   oceans16\n",
      "   onedork\n",
      "   solarizedd\n",
      "   solarizedl\n"
     ]
    }
   ],
   "source": [
    "!jt -l"
   ]
  },
  {
   "cell_type": "code",
   "execution_count": 2,
   "id": "8dc9254a",
   "metadata": {},
   "outputs": [
    {
     "name": "stdout",
     "output_type": "stream",
     "text": [
      "Reset css and font defaults in:\n",
      "C:\\Users\\tinghan.zhu\\.jupyter\\custom &\n",
      "C:\\Users\\tinghan.zhu\\AppData\\Roaming\\jupyter\\nbextensions\n"
     ]
    }
   ],
   "source": [
    "!jt -r"
   ]
  }
 ],
 "metadata": {
  "kernelspec": {
   "display_name": "Python 3 (ipykernel)",
   "language": "python",
   "name": "python3"
  },
  "language_info": {
   "codemirror_mode": {
    "name": "ipython",
    "version": 3
   },
   "file_extension": ".py",
   "mimetype": "text/x-python",
   "name": "python",
   "nbconvert_exporter": "python",
   "pygments_lexer": "ipython3",
   "version": "3.9.12"
  }
 },
 "nbformat": 4,
 "nbformat_minor": 5
}
